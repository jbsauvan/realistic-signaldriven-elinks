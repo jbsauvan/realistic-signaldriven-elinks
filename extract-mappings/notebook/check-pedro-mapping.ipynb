{
 "cells": [
  {
   "cell_type": "code",
   "execution_count": 1,
   "metadata": {
    "ExecuteTime": {
     "end_time": "2022-10-06T10:10:55.920349Z",
     "start_time": "2022-10-06T10:10:55.897233Z"
    }
   },
   "outputs": [],
   "source": [
    "%load_ext autoreload\n",
    "%autoreload 2"
   ]
  },
  {
   "cell_type": "code",
   "execution_count": 2,
   "metadata": {
    "ExecuteTime": {
     "end_time": "2022-10-06T10:10:57.319926Z",
     "start_time": "2022-10-06T10:10:56.360160Z"
    }
   },
   "outputs": [],
   "source": [
    "%matplotlib inline "
   ]
  },
  {
   "cell_type": "code",
   "execution_count": 3,
   "metadata": {
    "ExecuteTime": {
     "end_time": "2022-10-06T10:10:57.704088Z",
     "start_time": "2022-10-06T10:10:57.322097Z"
    }
   },
   "outputs": [],
   "source": [
    "import pandas as pd\n",
    "import numpy as np"
   ]
  },
  {
   "cell_type": "code",
   "execution_count": 26,
   "metadata": {
    "ExecuteTime": {
     "end_time": "2022-10-06T11:30:28.532928Z",
     "start_time": "2022-10-06T11:30:28.479807Z"
    }
   },
   "outputs": [],
   "source": [
    "df_geom = pd.read_csv('../data/geometry_bestguess.hgcal.txt', sep=' ')\n",
    "df_constr = pd.read_csv('../data/220712_strobbe_elinks-mapping.csv')\n",
    "showermax_layers = [7,9,11,13]\n",
    "hcal_start = 27\n",
    "elinks_showermax = 4\n",
    "elinks_regular = 2\n",
    "# STC: assuming STC4 5E+4M in HDM and STC16 in LDM\n",
    "elinks_stc16 = 2\n",
    "elinks_stc4 = 5"
   ]
  },
  {
   "cell_type": "code",
   "execution_count": 27,
   "metadata": {
    "ExecuteTime": {
     "end_time": "2022-10-06T11:30:30.717647Z",
     "start_time": "2022-10-06T11:30:30.683552Z"
    }
   },
   "outputs": [
    {
     "name": "stdout",
     "output_type": "stream",
     "text": [
      "   plane  u  v itype      x0      y0  irot  nvertices   vx_0   vy_0  ...  \\\n",
      "0      1  2  0   gIe  334.88    0.00     3          6  334.9   96.7  ...   \n",
      "1      1  2  1   dIe  251.16  145.01     3          5  251.2  241.7  ...   \n",
      "2      1  3  0    FI  502.32    0.00     0          6  502.3  -96.7  ...   \n",
      "3      1  3  1    FI  418.60  145.01     1          6  418.6   48.3  ...   \n",
      "4      1  3  2    FI  334.88  290.02     1          6  334.9  193.3  ...   \n",
      "\n",
      "   trigPp0_type           dataPp1           trigPp1  dataPp1_type  \\\n",
      "0             A  PP1(CE-)5_FO_1_2  PP1(CE-)3_FO_2_2            Ap   \n",
      "1             B  PP1(CE-)5_FO_1_2  PP1(CE-)3_FO_2_3            Ap   \n",
      "2             A  PP1(CE-)5_FO_1_2  PP1(CE-)3_FO_2_2            Ap   \n",
      "3             A  PP1(CE-)5_FO_1_3  PP1(CE-)3_FO_2_2            Ap   \n",
      "4             B  PP1(CE-)5_FO_1_2  PP1(CE-)3_FO_2_3            Ap   \n",
      "\n",
      "   trigPp1_type         dataPp2      DAQ  engine_trig_fibres  \\\n",
      "0            Ap  PPFO(CE-)X5_14  DAQ_2_2                   3   \n",
      "1            Ap  PPFO(CE-)X5_14  DAQ_2_2                   4   \n",
      "2            Ap  PPFO(CE-)X5_14  DAQ_2_2                   3   \n",
      "3            Ap  PPFO(CE-)X5_15  DAQ_2_2                   3   \n",
      "4            Ap  PPFO(CE-)X5_14  DAQ_2_2                   4   \n",
      "\n",
      "   engine_data_fibres  engine_ctrl_fibres  \n",
      "0                   2                   2  \n",
      "1                   2                   2  \n",
      "2                   2                   2  \n",
      "3                   2                   2  \n",
      "4                   2                   2  \n",
      "\n",
      "[5 rows x 52 columns]\n",
      "   layer  u  v  elinks\n",
      "0      7  2  0       9\n",
      "1      7  2  1       6\n",
      "2      7  3  0       8\n",
      "3      7  3  1       9\n",
      "4      7  3  2       9\n"
     ]
    }
   ],
   "source": [
    "print(df_geom.head())\n",
    "print(df_constr.head())"
   ]
  },
  {
   "cell_type": "code",
   "execution_count": 28,
   "metadata": {
    "ExecuteTime": {
     "end_time": "2022-10-06T11:30:31.198444Z",
     "start_time": "2022-10-06T11:30:31.167871Z"
    }
   },
   "outputs": [],
   "source": [
    "df_geom = df_geom[['plane','u','v','trigLinks','itype']]\n",
    "df_constr = df_constr.set_index(['layer', 'u', 'v'])"
   ]
  },
  {
   "cell_type": "code",
   "execution_count": 29,
   "metadata": {
    "ExecuteTime": {
     "end_time": "2022-10-06T11:30:32.472600Z",
     "start_time": "2022-10-06T11:30:32.448194Z"
    }
   },
   "outputs": [],
   "source": [
    "def get_constr_bcstc(row):\n",
    "    layer = int(row.plane)\n",
    "    u = int(row.u)\n",
    "    v = int(row.v)\n",
    "    itype = row.itype\n",
    "    triangle = itype[0]=='c'\n",
    "    hdm = 'I' in itype\n",
    "    bcstc_elinks = 0\n",
    "    constr_elinks = 999\n",
    "    bcstc_elinks = elinks_showermax if layer in showermax_layers else elinks_regular\n",
    "    # no trigger links in even layers\n",
    "    if layer%2==0 and layer<hcal_start: bcstc_elinks = 0 \n",
    "    # STC elinks: STC4 in HDM and STC16 in LDM\n",
    "    if layer>=hcal_start:\n",
    "        if hdm:\n",
    "            bcstc_elinks = elinks_stc4\n",
    "        else:\n",
    "            bcstc_elinks = elinks_stc16\n",
    "    layer_tmp = min(layer, hcal_start) # all HCAL layers have the same constraints\n",
    "    if df_constr.index.isin([(layer_tmp, u, v)]).any():\n",
    "        constr_elinks = int(df_constr.loc[(layer_tmp,u,v)])\n",
    "    # No trigger elinks in triangles/three-partials\n",
    "    if triangle: constr_elinks = 0\n",
    "    return min(bcstc_elinks, constr_elinks)"
   ]
  },
  {
   "cell_type": "code",
   "execution_count": 30,
   "metadata": {
    "ExecuteTime": {
     "end_time": "2022-10-06T11:30:38.001401Z",
     "start_time": "2022-10-06T11:30:32.919929Z"
    }
   },
   "outputs": [],
   "source": [
    "df_geom['trigLinksBCSTC'] = df_geom.apply(get_constr_bcstc, axis=1)"
   ]
  },
  {
   "cell_type": "code",
   "execution_count": 31,
   "metadata": {
    "ExecuteTime": {
     "end_time": "2022-10-06T11:30:39.098274Z",
     "start_time": "2022-10-06T11:30:39.070881Z"
    }
   },
   "outputs": [],
   "source": [
    "df_geom['ok'] = df_geom['trigLinks']>=df_geom['trigLinksBCSTC']"
   ]
  },
  {
   "cell_type": "code",
   "execution_count": 33,
   "metadata": {
    "ExecuteTime": {
     "end_time": "2022-10-06T11:30:41.835209Z",
     "start_time": "2022-10-06T11:30:41.799349Z"
    }
   },
   "outputs": [
    {
     "data": {
      "text/html": [
       "<div>\n",
       "<style scoped>\n",
       "    .dataframe tbody tr th:only-of-type {\n",
       "        vertical-align: middle;\n",
       "    }\n",
       "\n",
       "    .dataframe tbody tr th {\n",
       "        vertical-align: top;\n",
       "    }\n",
       "\n",
       "    .dataframe thead th {\n",
       "        text-align: right;\n",
       "    }\n",
       "</style>\n",
       "<table border=\"1\" class=\"dataframe\">\n",
       "  <thead>\n",
       "    <tr style=\"text-align: right;\">\n",
       "      <th></th>\n",
       "      <th>plane</th>\n",
       "      <th>u</th>\n",
       "      <th>v</th>\n",
       "      <th>trigLinks</th>\n",
       "      <th>itype</th>\n",
       "      <th>trigLinksBCSTC</th>\n",
       "      <th>ok</th>\n",
       "    </tr>\n",
       "  </thead>\n",
       "  <tbody>\n",
       "    <tr>\n",
       "      <th>3484</th>\n",
       "      <td>7</td>\n",
       "      <td>7</td>\n",
       "      <td>7</td>\n",
       "      <td>3.0</td>\n",
       "      <td>FO</td>\n",
       "      <td>4</td>\n",
       "      <td>False</td>\n",
       "    </tr>\n",
       "    <tr>\n",
       "      <th>3491</th>\n",
       "      <td>7</td>\n",
       "      <td>8</td>\n",
       "      <td>8</td>\n",
       "      <td>3.0</td>\n",
       "      <td>FO</td>\n",
       "      <td>4</td>\n",
       "      <td>False</td>\n",
       "    </tr>\n",
       "    <tr>\n",
       "      <th>3501</th>\n",
       "      <td>7</td>\n",
       "      <td>7</td>\n",
       "      <td>9</td>\n",
       "      <td>3.0</td>\n",
       "      <td>FO</td>\n",
       "      <td>4</td>\n",
       "      <td>False</td>\n",
       "    </tr>\n",
       "    <tr>\n",
       "      <th>3510</th>\n",
       "      <td>7</td>\n",
       "      <td>6</td>\n",
       "      <td>10</td>\n",
       "      <td>3.0</td>\n",
       "      <td>bOe</td>\n",
       "      <td>4</td>\n",
       "      <td>False</td>\n",
       "    </tr>\n",
       "    <tr>\n",
       "      <th>3583</th>\n",
       "      <td>9</td>\n",
       "      <td>7</td>\n",
       "      <td>7</td>\n",
       "      <td>3.0</td>\n",
       "      <td>FO</td>\n",
       "      <td>4</td>\n",
       "      <td>False</td>\n",
       "    </tr>\n",
       "    <tr>\n",
       "      <th>3590</th>\n",
       "      <td>9</td>\n",
       "      <td>8</td>\n",
       "      <td>8</td>\n",
       "      <td>2.0</td>\n",
       "      <td>FO</td>\n",
       "      <td>4</td>\n",
       "      <td>False</td>\n",
       "    </tr>\n",
       "    <tr>\n",
       "      <th>3598</th>\n",
       "      <td>9</td>\n",
       "      <td>9</td>\n",
       "      <td>9</td>\n",
       "      <td>1.0</td>\n",
       "      <td>aOeB</td>\n",
       "      <td>4</td>\n",
       "      <td>False</td>\n",
       "    </tr>\n",
       "    <tr>\n",
       "      <th>3600</th>\n",
       "      <td>9</td>\n",
       "      <td>7</td>\n",
       "      <td>9</td>\n",
       "      <td>3.0</td>\n",
       "      <td>FO</td>\n",
       "      <td>4</td>\n",
       "      <td>False</td>\n",
       "    </tr>\n",
       "    <tr>\n",
       "      <th>3607</th>\n",
       "      <td>9</td>\n",
       "      <td>8</td>\n",
       "      <td>10</td>\n",
       "      <td>3.0</td>\n",
       "      <td>aOeB</td>\n",
       "      <td>4</td>\n",
       "      <td>False</td>\n",
       "    </tr>\n",
       "    <tr>\n",
       "      <th>3609</th>\n",
       "      <td>9</td>\n",
       "      <td>6</td>\n",
       "      <td>10</td>\n",
       "      <td>3.0</td>\n",
       "      <td>FOe</td>\n",
       "      <td>4</td>\n",
       "      <td>False</td>\n",
       "    </tr>\n",
       "    <tr>\n",
       "      <th>3683</th>\n",
       "      <td>11</td>\n",
       "      <td>7</td>\n",
       "      <td>7</td>\n",
       "      <td>3.0</td>\n",
       "      <td>FO</td>\n",
       "      <td>4</td>\n",
       "      <td>False</td>\n",
       "    </tr>\n",
       "    <tr>\n",
       "      <th>3690</th>\n",
       "      <td>11</td>\n",
       "      <td>8</td>\n",
       "      <td>8</td>\n",
       "      <td>2.0</td>\n",
       "      <td>FO</td>\n",
       "      <td>4</td>\n",
       "      <td>False</td>\n",
       "    </tr>\n",
       "    <tr>\n",
       "      <th>3698</th>\n",
       "      <td>11</td>\n",
       "      <td>9</td>\n",
       "      <td>9</td>\n",
       "      <td>1.0</td>\n",
       "      <td>aOeB</td>\n",
       "      <td>4</td>\n",
       "      <td>False</td>\n",
       "    </tr>\n",
       "    <tr>\n",
       "      <th>3700</th>\n",
       "      <td>11</td>\n",
       "      <td>7</td>\n",
       "      <td>9</td>\n",
       "      <td>3.0</td>\n",
       "      <td>FO</td>\n",
       "      <td>4</td>\n",
       "      <td>False</td>\n",
       "    </tr>\n",
       "    <tr>\n",
       "      <th>3707</th>\n",
       "      <td>11</td>\n",
       "      <td>8</td>\n",
       "      <td>10</td>\n",
       "      <td>3.0</td>\n",
       "      <td>aOeB</td>\n",
       "      <td>4</td>\n",
       "      <td>False</td>\n",
       "    </tr>\n",
       "    <tr>\n",
       "      <th>3709</th>\n",
       "      <td>11</td>\n",
       "      <td>6</td>\n",
       "      <td>10</td>\n",
       "      <td>3.0</td>\n",
       "      <td>FOe</td>\n",
       "      <td>4</td>\n",
       "      <td>False</td>\n",
       "    </tr>\n",
       "    <tr>\n",
       "      <th>3783</th>\n",
       "      <td>13</td>\n",
       "      <td>7</td>\n",
       "      <td>7</td>\n",
       "      <td>3.0</td>\n",
       "      <td>FO</td>\n",
       "      <td>4</td>\n",
       "      <td>False</td>\n",
       "    </tr>\n",
       "    <tr>\n",
       "      <th>3790</th>\n",
       "      <td>13</td>\n",
       "      <td>8</td>\n",
       "      <td>8</td>\n",
       "      <td>2.0</td>\n",
       "      <td>FO</td>\n",
       "      <td>4</td>\n",
       "      <td>False</td>\n",
       "    </tr>\n",
       "    <tr>\n",
       "      <th>3798</th>\n",
       "      <td>13</td>\n",
       "      <td>9</td>\n",
       "      <td>9</td>\n",
       "      <td>1.0</td>\n",
       "      <td>aOeB</td>\n",
       "      <td>4</td>\n",
       "      <td>False</td>\n",
       "    </tr>\n",
       "    <tr>\n",
       "      <th>3800</th>\n",
       "      <td>13</td>\n",
       "      <td>7</td>\n",
       "      <td>9</td>\n",
       "      <td>3.0</td>\n",
       "      <td>FO</td>\n",
       "      <td>4</td>\n",
       "      <td>False</td>\n",
       "    </tr>\n",
       "    <tr>\n",
       "      <th>3807</th>\n",
       "      <td>13</td>\n",
       "      <td>8</td>\n",
       "      <td>10</td>\n",
       "      <td>3.0</td>\n",
       "      <td>aOeB</td>\n",
       "      <td>4</td>\n",
       "      <td>False</td>\n",
       "    </tr>\n",
       "    <tr>\n",
       "      <th>3809</th>\n",
       "      <td>13</td>\n",
       "      <td>6</td>\n",
       "      <td>10</td>\n",
       "      <td>3.0</td>\n",
       "      <td>FOe</td>\n",
       "      <td>4</td>\n",
       "      <td>False</td>\n",
       "    </tr>\n",
       "  </tbody>\n",
       "</table>\n",
       "</div>"
      ],
      "text/plain": [
       "      plane  u   v  trigLinks itype  trigLinksBCSTC     ok\n",
       "3484      7  7   7        3.0    FO               4  False\n",
       "3491      7  8   8        3.0    FO               4  False\n",
       "3501      7  7   9        3.0    FO               4  False\n",
       "3510      7  6  10        3.0   bOe               4  False\n",
       "3583      9  7   7        3.0    FO               4  False\n",
       "3590      9  8   8        2.0    FO               4  False\n",
       "3598      9  9   9        1.0  aOeB               4  False\n",
       "3600      9  7   9        3.0    FO               4  False\n",
       "3607      9  8  10        3.0  aOeB               4  False\n",
       "3609      9  6  10        3.0   FOe               4  False\n",
       "3683     11  7   7        3.0    FO               4  False\n",
       "3690     11  8   8        2.0    FO               4  False\n",
       "3698     11  9   9        1.0  aOeB               4  False\n",
       "3700     11  7   9        3.0    FO               4  False\n",
       "3707     11  8  10        3.0  aOeB               4  False\n",
       "3709     11  6  10        3.0   FOe               4  False\n",
       "3783     13  7   7        3.0    FO               4  False\n",
       "3790     13  8   8        2.0    FO               4  False\n",
       "3798     13  9   9        1.0  aOeB               4  False\n",
       "3800     13  7   9        3.0    FO               4  False\n",
       "3807     13  8  10        3.0  aOeB               4  False\n",
       "3809     13  6  10        3.0   FOe               4  False"
      ]
     },
     "execution_count": 33,
     "metadata": {},
     "output_type": "execute_result"
    }
   ],
   "source": [
    "df_geom.query('ok==False')"
   ]
  },
  {
   "cell_type": "code",
   "execution_count": null,
   "metadata": {},
   "outputs": [],
   "source": []
  }
 ],
 "metadata": {
  "kernelspec": {
   "display_name": "Python 3",
   "language": "python",
   "name": "python3"
  },
  "language_info": {
   "codemirror_mode": {
    "name": "ipython",
    "version": 3
   },
   "file_extension": ".py",
   "mimetype": "text/x-python",
   "name": "python",
   "nbconvert_exporter": "python",
   "pygments_lexer": "ipython3",
   "version": "3.7.0"
  },
  "toc": {
   "base_numbering": 1,
   "nav_menu": {},
   "number_sections": true,
   "sideBar": true,
   "skip_h1_title": false,
   "title_cell": "Table of Contents",
   "title_sidebar": "Contents",
   "toc_cell": false,
   "toc_position": {},
   "toc_section_display": true,
   "toc_window_display": false
  }
 },
 "nbformat": 4,
 "nbformat_minor": 2
}
