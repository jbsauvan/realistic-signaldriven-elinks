{
 "cells": [
  {
   "cell_type": "code",
   "execution_count": 1,
   "metadata": {
    "ExecuteTime": {
     "end_time": "2023-03-15T15:25:16.718338Z",
     "start_time": "2023-03-15T15:25:16.694394Z"
    }
   },
   "outputs": [],
   "source": [
    "%load_ext autoreload\n",
    "%autoreload 2"
   ]
  },
  {
   "cell_type": "code",
   "execution_count": 2,
   "metadata": {
    "ExecuteTime": {
     "end_time": "2023-03-15T15:25:17.998592Z",
     "start_time": "2023-03-15T15:25:17.052878Z"
    }
   },
   "outputs": [],
   "source": [
    "%matplotlib inline "
   ]
  },
  {
   "cell_type": "code",
   "execution_count": 3,
   "metadata": {
    "ExecuteTime": {
     "end_time": "2023-03-15T15:25:18.411882Z",
     "start_time": "2023-03-15T15:25:18.000698Z"
    }
   },
   "outputs": [],
   "source": [
    "import sys\n",
    "sys.path.append('..')\n",
    "\n",
    "import pandas as pd\n",
    "import numpy as np\n",
    "from common import rotate_to_sector0,uv2sectoru0v0"
   ]
  },
  {
   "cell_type": "code",
   "execution_count": 4,
   "metadata": {
    "ExecuteTime": {
     "end_time": "2023-03-15T15:25:18.482657Z",
     "start_time": "2023-03-15T15:25:18.414513Z"
    }
   },
   "outputs": [],
   "source": [
    "## First preliminary geometry file\n",
    "df_geom_bestguess = pd.read_csv('../data/geometry_bestguess_v2.hgcal.txt', sep=' ')\n",
    "## Geometry file as of Feb. 16 2023 (https://gitlab.cern.ch/hgcal-integration/hgcal_modmap/-/blob/development/geometries/v15.2/geometry.hgcal.txt)\n",
    "df_geom_v15p2 = pd.read_csv('../data/geometry.hgcal.v15.2.txt', sep=' ')\n",
    "df_constr = pd.read_csv('../data/220712_strobbe_elinks-mapping.csv')\n",
    "showermax_layers = [7,9,11,13]\n",
    "hcal_start = 27\n",
    "elinks_showermax = 4\n",
    "elinks_regular = 2\n",
    "# STC: assuming STC4 5E+4M in HDM and STC16 in LDM\n",
    "elinks_stc16 = 2\n",
    "elinks_stc4 = 5"
   ]
  },
  {
   "cell_type": "code",
   "execution_count": 5,
   "metadata": {
    "ExecuteTime": {
     "end_time": "2023-03-15T15:25:18.503543Z",
     "start_time": "2023-03-15T15:25:18.484346Z"
    }
   },
   "outputs": [],
   "source": [
    "df_constr = df_constr.set_index(['layer', 'u', 'v'])"
   ]
  },
  {
   "cell_type": "code",
   "execution_count": 6,
   "metadata": {
    "ExecuteTime": {
     "end_time": "2023-03-15T15:25:19.907863Z",
     "start_time": "2023-03-15T15:25:19.877268Z"
    }
   },
   "outputs": [],
   "source": [
    "def get_constr_bcstc(row):\n",
    "    layer = int(row.plane)\n",
    "    u = int(row.u)\n",
    "    v = int(row.v)\n",
    "    # Rotate to 60deg sector0 if in CE-E\n",
    "    u0 = int(row.u0) if layer<hcal_start else u\n",
    "    v0 = int(row.v0) if layer<hcal_start else v\n",
    "    itype = row.itype\n",
    "    triangle = itype[0]=='c'\n",
    "    hdm = 'I' in itype\n",
    "    bcstc_elinks = 0\n",
    "    constr_elinks = 999\n",
    "    bcstc_elinks = elinks_showermax if layer in showermax_layers else elinks_regular\n",
    "    # no trigger links in even layers\n",
    "    if layer%2==0 and layer<hcal_start: bcstc_elinks = 0 \n",
    "    # STC elinks: STC4 in HDM and STC16 in LDM\n",
    "    if layer>=hcal_start:\n",
    "        if hdm:\n",
    "            bcstc_elinks = elinks_stc4\n",
    "        else:\n",
    "            bcstc_elinks = elinks_stc16\n",
    "    layer_tmp = min(layer, hcal_start) # all HCAL layers have the same constraints\n",
    "    if df_constr.index.isin([(layer_tmp, u0, v0)]).any():\n",
    "        constr_elinks = int(df_constr.loc[(layer_tmp,u0,v0)])\n",
    "    # No trigger elinks in triangles/three-partials\n",
    "    if triangle: constr_elinks = 0\n",
    "    return min(bcstc_elinks, constr_elinks)"
   ]
  },
  {
   "cell_type": "code",
   "execution_count": 7,
   "metadata": {
    "ExecuteTime": {
     "end_time": "2023-03-15T15:29:41.968079Z",
     "start_time": "2023-03-15T15:29:41.720120Z"
    }
   },
   "outputs": [],
   "source": [
    "def process_geom(df_geom):\n",
    "    df_geom = df_geom[['plane','u','v','trigLinks','itype']]\n",
    "    # Get sector 0 u and v\n",
    "    df_geom[['sector60', 'u0', 'v0']] = df_geom.apply(uv2sectoru0v0, axis=1)\n",
    "    # get constrained number of elinks for BC+STC\n",
    "    df_geom['trigLinksBCSTC'] = df_geom.apply(get_constr_bcstc, axis=1)\n",
    "    # Compare the number of trigger elinks in the geometry to the constrained number\n",
    "    # There is an issue if we have less than the constrained one\n",
    "    df_geom['ok'] = df_geom['trigLinks']>=df_geom['trigLinksBCSTC']\n",
    "    return df_geom\n",
    "    "
   ]
  },
  {
   "cell_type": "code",
   "execution_count": 9,
   "metadata": {
    "ExecuteTime": {
     "end_time": "2023-03-15T15:30:03.409923Z",
     "start_time": "2023-03-15T15:29:51.252174Z"
    }
   },
   "outputs": [
    {
     "name": "stderr",
     "output_type": "stream",
     "text": [
      "/home/llr/cms/sauvan/.local/lib/python3.7/site-packages/pandas/core/frame.py:3069: SettingWithCopyWarning: \n",
      "A value is trying to be set on a copy of a slice from a DataFrame.\n",
      "Try using .loc[row_indexer,col_indexer] = value instead\n",
      "\n",
      "See the caveats in the documentation: https://pandas.pydata.org/pandas-docs/stable/user_guide/indexing.html#returning-a-view-versus-a-copy\n",
      "  self[k1] = value[k2]\n",
      "/opt/exp_soft/llr/python/3.7.0/el7/lib/python3.7/site-packages/ipykernel_launcher.py:6: SettingWithCopyWarning: \n",
      "A value is trying to be set on a copy of a slice from a DataFrame.\n",
      "Try using .loc[row_indexer,col_indexer] = value instead\n",
      "\n",
      "See the caveats in the documentation: https://pandas.pydata.org/pandas-docs/stable/user_guide/indexing.html#returning-a-view-versus-a-copy\n",
      "  \n",
      "/opt/exp_soft/llr/python/3.7.0/el7/lib/python3.7/site-packages/ipykernel_launcher.py:9: SettingWithCopyWarning: \n",
      "A value is trying to be set on a copy of a slice from a DataFrame.\n",
      "Try using .loc[row_indexer,col_indexer] = value instead\n",
      "\n",
      "See the caveats in the documentation: https://pandas.pydata.org/pandas-docs/stable/user_guide/indexing.html#returning-a-view-versus-a-copy\n",
      "  if __name__ == '__main__':\n",
      "/home/llr/cms/sauvan/.local/lib/python3.7/site-packages/pandas/core/frame.py:3069: SettingWithCopyWarning: \n",
      "A value is trying to be set on a copy of a slice from a DataFrame.\n",
      "Try using .loc[row_indexer,col_indexer] = value instead\n",
      "\n",
      "See the caveats in the documentation: https://pandas.pydata.org/pandas-docs/stable/user_guide/indexing.html#returning-a-view-versus-a-copy\n",
      "  self[k1] = value[k2]\n",
      "/opt/exp_soft/llr/python/3.7.0/el7/lib/python3.7/site-packages/ipykernel_launcher.py:6: SettingWithCopyWarning: \n",
      "A value is trying to be set on a copy of a slice from a DataFrame.\n",
      "Try using .loc[row_indexer,col_indexer] = value instead\n",
      "\n",
      "See the caveats in the documentation: https://pandas.pydata.org/pandas-docs/stable/user_guide/indexing.html#returning-a-view-versus-a-copy\n",
      "  \n",
      "/opt/exp_soft/llr/python/3.7.0/el7/lib/python3.7/site-packages/ipykernel_launcher.py:9: SettingWithCopyWarning: \n",
      "A value is trying to be set on a copy of a slice from a DataFrame.\n",
      "Try using .loc[row_indexer,col_indexer] = value instead\n",
      "\n",
      "See the caveats in the documentation: https://pandas.pydata.org/pandas-docs/stable/user_guide/indexing.html#returning-a-view-versus-a-copy\n",
      "  if __name__ == '__main__':\n"
     ]
    }
   ],
   "source": [
    "df_geom_bestguess = process_geom(df_geom_bestguess)\n",
    "df_geom_v15p2 = process_geom(df_geom_v15p2)"
   ]
  },
  {
   "cell_type": "code",
   "execution_count": 10,
   "metadata": {
    "ExecuteTime": {
     "end_time": "2023-03-15T15:30:03.443848Z",
     "start_time": "2023-03-15T15:30:03.411876Z"
    }
   },
   "outputs": [
    {
     "data": {
      "text/html": [
       "<div>\n",
       "<style scoped>\n",
       "    .dataframe tbody tr th:only-of-type {\n",
       "        vertical-align: middle;\n",
       "    }\n",
       "\n",
       "    .dataframe tbody tr th {\n",
       "        vertical-align: top;\n",
       "    }\n",
       "\n",
       "    .dataframe thead th {\n",
       "        text-align: right;\n",
       "    }\n",
       "</style>\n",
       "<table border=\"1\" class=\"dataframe\">\n",
       "  <thead>\n",
       "    <tr style=\"text-align: right;\">\n",
       "      <th></th>\n",
       "      <th>plane</th>\n",
       "      <th>u</th>\n",
       "      <th>v</th>\n",
       "      <th>trigLinks</th>\n",
       "      <th>itype</th>\n",
       "      <th>sector60</th>\n",
       "      <th>u0</th>\n",
       "      <th>v0</th>\n",
       "      <th>trigLinksBCSTC</th>\n",
       "      <th>ok</th>\n",
       "    </tr>\n",
       "  </thead>\n",
       "  <tbody>\n",
       "  </tbody>\n",
       "</table>\n",
       "</div>"
      ],
      "text/plain": [
       "Empty DataFrame\n",
       "Columns: [plane, u, v, trigLinks, itype, sector60, u0, v0, trigLinksBCSTC, ok]\n",
       "Index: []"
      ]
     },
     "execution_count": 10,
     "metadata": {},
     "output_type": "execute_result"
    }
   ],
   "source": [
    "df_geom_bestguess.query('ok==False')"
   ]
  },
  {
   "cell_type": "code",
   "execution_count": 11,
   "metadata": {
    "ExecuteTime": {
     "end_time": "2023-03-15T15:30:15.018905Z",
     "start_time": "2023-03-15T15:30:14.984973Z"
    }
   },
   "outputs": [
    {
     "data": {
      "text/html": [
       "<div>\n",
       "<style scoped>\n",
       "    .dataframe tbody tr th:only-of-type {\n",
       "        vertical-align: middle;\n",
       "    }\n",
       "\n",
       "    .dataframe tbody tr th {\n",
       "        vertical-align: top;\n",
       "    }\n",
       "\n",
       "    .dataframe thead th {\n",
       "        text-align: right;\n",
       "    }\n",
       "</style>\n",
       "<table border=\"1\" class=\"dataframe\">\n",
       "  <thead>\n",
       "    <tr style=\"text-align: right;\">\n",
       "      <th></th>\n",
       "      <th>plane</th>\n",
       "      <th>u</th>\n",
       "      <th>v</th>\n",
       "      <th>trigLinks</th>\n",
       "      <th>itype</th>\n",
       "      <th>sector60</th>\n",
       "      <th>u0</th>\n",
       "      <th>v0</th>\n",
       "      <th>trigLinksBCSTC</th>\n",
       "      <th>ok</th>\n",
       "    </tr>\n",
       "  </thead>\n",
       "  <tbody>\n",
       "  </tbody>\n",
       "</table>\n",
       "</div>"
      ],
      "text/plain": [
       "Empty DataFrame\n",
       "Columns: [plane, u, v, trigLinks, itype, sector60, u0, v0, trigLinksBCSTC, ok]\n",
       "Index: []"
      ]
     },
     "execution_count": 11,
     "metadata": {},
     "output_type": "execute_result"
    }
   ],
   "source": [
    "df_geom_v15p2.query('ok==False')"
   ]
  },
  {
   "cell_type": "code",
   "execution_count": 12,
   "metadata": {
    "ExecuteTime": {
     "end_time": "2023-03-15T15:30:45.202994Z",
     "start_time": "2023-03-15T15:30:44.936145Z"
    }
   },
   "outputs": [],
   "source": [
    "df_geom_bestguess = df_geom_bestguess.reset_index().set_index(['plane','u','v'])\n",
    "df_geom_v15p2 = df_geom_v15p2.reset_index().set_index(['plane','u','v'])"
   ]
  },
  {
   "cell_type": "code",
   "execution_count": 43,
   "metadata": {
    "ExecuteTime": {
     "end_time": "2023-03-15T15:20:08.187005Z",
     "start_time": "2023-03-15T15:20:08.151561Z"
    }
   },
   "outputs": [
    {
     "data": {
      "text/plain": [
       "plane  u   v \n",
       "27     1   10    2.0\n",
       "       10  9     2.0\n",
       "32     1   11    2.0\n",
       "       11  10    2.0\n",
       "Name: trigLinks, dtype: float64"
      ]
     },
     "execution_count": 43,
     "metadata": {},
     "output_type": "execute_result"
    }
   ],
   "source": [
    "## Compte the differences in number of trigger elinks between the two geometry files\n",
    "df_diff = df_geom_v15p2['trigLinks'] - df_geom_bestguess['trigLinks']\n",
    "## Extract NaNs, meaning wafer not existing in one of the files \n",
    "df_diff_nans = df_geom_bestguess[df_diff.isna()]\n",
    "## Extract differences fo\n",
    "df_diff = df_diff.dropna()\n",
    "df_diff[df_diff!=0]"
   ]
  },
  {
   "cell_type": "code",
   "execution_count": 45,
   "metadata": {
    "ExecuteTime": {
     "end_time": "2023-03-15T15:20:35.818678Z",
     "start_time": "2023-03-15T15:20:35.780723Z"
    }
   },
   "outputs": [
    {
     "data": {
      "text/html": [
       "<div>\n",
       "<style scoped>\n",
       "    .dataframe tbody tr th:only-of-type {\n",
       "        vertical-align: middle;\n",
       "    }\n",
       "\n",
       "    .dataframe tbody tr th {\n",
       "        vertical-align: top;\n",
       "    }\n",
       "\n",
       "    .dataframe thead th {\n",
       "        text-align: right;\n",
       "    }\n",
       "</style>\n",
       "<table border=\"1\" class=\"dataframe\">\n",
       "  <thead>\n",
       "    <tr style=\"text-align: right;\">\n",
       "      <th></th>\n",
       "      <th></th>\n",
       "      <th></th>\n",
       "      <th>trigLinks</th>\n",
       "      <th>itype</th>\n",
       "      <th>sector60</th>\n",
       "      <th>u0</th>\n",
       "      <th>v0</th>\n",
       "      <th>trigLinksBCSTC</th>\n",
       "      <th>ok</th>\n",
       "    </tr>\n",
       "    <tr>\n",
       "      <th>plane</th>\n",
       "      <th>u</th>\n",
       "      <th>v</th>\n",
       "      <th></th>\n",
       "      <th></th>\n",
       "      <th></th>\n",
       "      <th></th>\n",
       "      <th></th>\n",
       "      <th></th>\n",
       "      <th></th>\n",
       "    </tr>\n",
       "  </thead>\n",
       "  <tbody>\n",
       "    <tr>\n",
       "      <th rowspan=\"2\" valign=\"top\">27</th>\n",
       "      <th rowspan=\"2\" valign=\"top\">9</th>\n",
       "      <th>0</th>\n",
       "      <td>2.0</td>\n",
       "      <td>aOeB</td>\n",
       "      <td>0</td>\n",
       "      <td>9</td>\n",
       "      <td>0</td>\n",
       "      <td>2</td>\n",
       "      <td>True</td>\n",
       "    </tr>\n",
       "    <tr>\n",
       "      <th>9</th>\n",
       "      <td>2.0</td>\n",
       "      <td>aOeB</td>\n",
       "      <td>1</td>\n",
       "      <td>9</td>\n",
       "      <td>0</td>\n",
       "      <td>2</td>\n",
       "      <td>True</td>\n",
       "    </tr>\n",
       "    <tr>\n",
       "      <th rowspan=\"2\" valign=\"top\">28</th>\n",
       "      <th rowspan=\"2\" valign=\"top\">9</th>\n",
       "      <th>0</th>\n",
       "      <td>2.0</td>\n",
       "      <td>aOeB</td>\n",
       "      <td>0</td>\n",
       "      <td>9</td>\n",
       "      <td>0</td>\n",
       "      <td>2</td>\n",
       "      <td>True</td>\n",
       "    </tr>\n",
       "    <tr>\n",
       "      <th>9</th>\n",
       "      <td>2.0</td>\n",
       "      <td>aOeB</td>\n",
       "      <td>1</td>\n",
       "      <td>9</td>\n",
       "      <td>0</td>\n",
       "      <td>2</td>\n",
       "      <td>True</td>\n",
       "    </tr>\n",
       "    <tr>\n",
       "      <th rowspan=\"2\" valign=\"top\">29</th>\n",
       "      <th rowspan=\"2\" valign=\"top\">9</th>\n",
       "      <th>0</th>\n",
       "      <td>2.0</td>\n",
       "      <td>aOeB</td>\n",
       "      <td>0</td>\n",
       "      <td>9</td>\n",
       "      <td>0</td>\n",
       "      <td>2</td>\n",
       "      <td>True</td>\n",
       "    </tr>\n",
       "    <tr>\n",
       "      <th>9</th>\n",
       "      <td>2.0</td>\n",
       "      <td>aOeB</td>\n",
       "      <td>1</td>\n",
       "      <td>9</td>\n",
       "      <td>0</td>\n",
       "      <td>2</td>\n",
       "      <td>True</td>\n",
       "    </tr>\n",
       "    <tr>\n",
       "      <th rowspan=\"2\" valign=\"top\">30</th>\n",
       "      <th rowspan=\"2\" valign=\"top\">9</th>\n",
       "      <th>0</th>\n",
       "      <td>2.0</td>\n",
       "      <td>aOeB</td>\n",
       "      <td>0</td>\n",
       "      <td>9</td>\n",
       "      <td>0</td>\n",
       "      <td>2</td>\n",
       "      <td>True</td>\n",
       "    </tr>\n",
       "    <tr>\n",
       "      <th>9</th>\n",
       "      <td>2.0</td>\n",
       "      <td>aOeT</td>\n",
       "      <td>1</td>\n",
       "      <td>9</td>\n",
       "      <td>0</td>\n",
       "      <td>2</td>\n",
       "      <td>True</td>\n",
       "    </tr>\n",
       "    <tr>\n",
       "      <th rowspan=\"2\" valign=\"top\">31</th>\n",
       "      <th rowspan=\"2\" valign=\"top\">9</th>\n",
       "      <th>0</th>\n",
       "      <td>2.0</td>\n",
       "      <td>aOeB</td>\n",
       "      <td>0</td>\n",
       "      <td>9</td>\n",
       "      <td>0</td>\n",
       "      <td>2</td>\n",
       "      <td>True</td>\n",
       "    </tr>\n",
       "    <tr>\n",
       "      <th>9</th>\n",
       "      <td>2.0</td>\n",
       "      <td>aOeB</td>\n",
       "      <td>1</td>\n",
       "      <td>9</td>\n",
       "      <td>0</td>\n",
       "      <td>2</td>\n",
       "      <td>True</td>\n",
       "    </tr>\n",
       "    <tr>\n",
       "      <th rowspan=\"2\" valign=\"top\">32</th>\n",
       "      <th rowspan=\"2\" valign=\"top\">10</th>\n",
       "      <th>0</th>\n",
       "      <td>2.0</td>\n",
       "      <td>aOeB</td>\n",
       "      <td>0</td>\n",
       "      <td>10</td>\n",
       "      <td>0</td>\n",
       "      <td>2</td>\n",
       "      <td>True</td>\n",
       "    </tr>\n",
       "    <tr>\n",
       "      <th>10</th>\n",
       "      <td>2.0</td>\n",
       "      <td>aOeB</td>\n",
       "      <td>1</td>\n",
       "      <td>10</td>\n",
       "      <td>0</td>\n",
       "      <td>2</td>\n",
       "      <td>True</td>\n",
       "    </tr>\n",
       "    <tr>\n",
       "      <th rowspan=\"2\" valign=\"top\">33</th>\n",
       "      <th rowspan=\"2\" valign=\"top\">10</th>\n",
       "      <th>0</th>\n",
       "      <td>2.0</td>\n",
       "      <td>aOeB</td>\n",
       "      <td>0</td>\n",
       "      <td>10</td>\n",
       "      <td>0</td>\n",
       "      <td>2</td>\n",
       "      <td>True</td>\n",
       "    </tr>\n",
       "    <tr>\n",
       "      <th>10</th>\n",
       "      <td>2.0</td>\n",
       "      <td>aOeB</td>\n",
       "      <td>1</td>\n",
       "      <td>10</td>\n",
       "      <td>0</td>\n",
       "      <td>2</td>\n",
       "      <td>True</td>\n",
       "    </tr>\n",
       "  </tbody>\n",
       "</table>\n",
       "</div>"
      ],
      "text/plain": [
       "             trigLinks itype  sector60  u0  v0  trigLinksBCSTC    ok\n",
       "plane u  v                                                          \n",
       "27    9  0         2.0  aOeB         0   9   0               2  True\n",
       "         9         2.0  aOeB         1   9   0               2  True\n",
       "28    9  0         2.0  aOeB         0   9   0               2  True\n",
       "         9         2.0  aOeB         1   9   0               2  True\n",
       "29    9  0         2.0  aOeB         0   9   0               2  True\n",
       "         9         2.0  aOeB         1   9   0               2  True\n",
       "30    9  0         2.0  aOeB         0   9   0               2  True\n",
       "         9         2.0  aOeT         1   9   0               2  True\n",
       "31    9  0         2.0  aOeB         0   9   0               2  True\n",
       "         9         2.0  aOeB         1   9   0               2  True\n",
       "32    10 0         2.0  aOeB         0  10   0               2  True\n",
       "         10        2.0  aOeB         1  10   0               2  True\n",
       "33    10 0         2.0  aOeB         0  10   0               2  True\n",
       "         10        2.0  aOeB         1  10   0               2  True"
      ]
     },
     "execution_count": 45,
     "metadata": {},
     "output_type": "execute_result"
    }
   ],
   "source": [
    "df_diff_nans[df_diff_nans.trigLinks>0]"
   ]
  },
  {
   "cell_type": "code",
   "execution_count": null,
   "metadata": {},
   "outputs": [],
   "source": []
  }
 ],
 "metadata": {
  "kernelspec": {
   "display_name": "Python 3",
   "language": "python",
   "name": "python3"
  },
  "language_info": {
   "codemirror_mode": {
    "name": "ipython",
    "version": 3
   },
   "file_extension": ".py",
   "mimetype": "text/x-python",
   "name": "python",
   "nbconvert_exporter": "python",
   "pygments_lexer": "ipython3",
   "version": "3.7.0"
  },
  "toc": {
   "base_numbering": 1,
   "nav_menu": {},
   "number_sections": true,
   "sideBar": true,
   "skip_h1_title": false,
   "title_cell": "Table of Contents",
   "title_sidebar": "Contents",
   "toc_cell": false,
   "toc_position": {},
   "toc_section_display": true,
   "toc_window_display": false
  }
 },
 "nbformat": 4,
 "nbformat_minor": 2
}
