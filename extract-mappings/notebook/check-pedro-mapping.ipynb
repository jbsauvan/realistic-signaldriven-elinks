{
 "cells": [
  {
   "cell_type": "code",
   "execution_count": 1,
   "metadata": {
    "ExecuteTime": {
     "end_time": "2022-10-06T08:01:40.672760Z",
     "start_time": "2022-10-06T08:01:40.648907Z"
    }
   },
   "outputs": [],
   "source": [
    "%load_ext autoreload\n",
    "%autoreload 2"
   ]
  },
  {
   "cell_type": "code",
   "execution_count": 2,
   "metadata": {
    "ExecuteTime": {
     "end_time": "2022-10-06T08:01:42.255553Z",
     "start_time": "2022-10-06T08:01:41.280504Z"
    }
   },
   "outputs": [],
   "source": [
    "%matplotlib inline "
   ]
  },
  {
   "cell_type": "code",
   "execution_count": 3,
   "metadata": {
    "ExecuteTime": {
     "end_time": "2022-10-06T08:01:42.699992Z",
     "start_time": "2022-10-06T08:01:42.257477Z"
    }
   },
   "outputs": [],
   "source": [
    "import pandas as pd\n",
    "import numpy as np"
   ]
  },
  {
   "cell_type": "code",
   "execution_count": 4,
   "metadata": {
    "ExecuteTime": {
     "end_time": "2022-10-06T08:01:42.747188Z",
     "start_time": "2022-10-06T08:01:42.701464Z"
    }
   },
   "outputs": [],
   "source": [
    "df_geom = pd.read_csv('../data/geometry_bestguess.hgcal.txt', sep=' ')\n",
    "df_constr = pd.read_csv('../data/220712_strobbe_elinks-mapping.csv')\n",
    "showermax_layers = [7,9,11,13]\n",
    "hcal_start = 27\n",
    "elinks_showermax = 4\n",
    "elinks_regular = 2\n",
    "# no asumption made on the type of STC, assuming STC4 5E+3M everywhere\n",
    "elinks_stc = 5"
   ]
  },
  {
   "cell_type": "code",
   "execution_count": 5,
   "metadata": {
    "ExecuteTime": {
     "end_time": "2022-10-06T08:01:44.877678Z",
     "start_time": "2022-10-06T08:01:44.842615Z"
    }
   },
   "outputs": [
    {
     "name": "stdout",
     "output_type": "stream",
     "text": [
      "   plane  u  v itype      x0      y0  irot  nvertices   vx_0   vy_0  ...  \\\n",
      "0      1  2  0   gIe  334.88    0.00     3          6  334.9   96.7  ...   \n",
      "1      1  2  1   dIe  251.16  145.01     3          5  251.2  241.7  ...   \n",
      "2      1  3  0    FI  502.32    0.00     0          6  502.3  -96.7  ...   \n",
      "3      1  3  1    FI  418.60  145.01     1          6  418.6   48.3  ...   \n",
      "4      1  3  2    FI  334.88  290.02     1          6  334.9  193.3  ...   \n",
      "\n",
      "   trigPp0_type           dataPp1           trigPp1  dataPp1_type  \\\n",
      "0             A  PP1(CE-)5_FO_1_2  PP1(CE-)3_FO_2_2            Ap   \n",
      "1             B  PP1(CE-)5_FO_1_2  PP1(CE-)3_FO_2_3            Ap   \n",
      "2             A  PP1(CE-)5_FO_1_2  PP1(CE-)3_FO_2_2            Ap   \n",
      "3             A  PP1(CE-)5_FO_1_3  PP1(CE-)3_FO_2_2            Ap   \n",
      "4             B  PP1(CE-)5_FO_1_2  PP1(CE-)3_FO_2_3            Ap   \n",
      "\n",
      "   trigPp1_type         dataPp2      DAQ  engine_trig_fibres  \\\n",
      "0            Ap  PPFO(CE-)X5_14  DAQ_2_2                   3   \n",
      "1            Ap  PPFO(CE-)X5_14  DAQ_2_2                   4   \n",
      "2            Ap  PPFO(CE-)X5_14  DAQ_2_2                   3   \n",
      "3            Ap  PPFO(CE-)X5_15  DAQ_2_2                   3   \n",
      "4            Ap  PPFO(CE-)X5_14  DAQ_2_2                   4   \n",
      "\n",
      "   engine_data_fibres  engine_ctrl_fibres  \n",
      "0                   2                   2  \n",
      "1                   2                   2  \n",
      "2                   2                   2  \n",
      "3                   2                   2  \n",
      "4                   2                   2  \n",
      "\n",
      "[5 rows x 52 columns]\n",
      "   layer  u  v  elinks\n",
      "0      7  2  0       9\n",
      "1      7  2  1       6\n",
      "2      7  3  0       8\n",
      "3      7  3  1       9\n",
      "4      7  3  2       9\n"
     ]
    }
   ],
   "source": [
    "print(df_geom.head())\n",
    "print(df_constr.head())"
   ]
  },
  {
   "cell_type": "code",
   "execution_count": 6,
   "metadata": {
    "ExecuteTime": {
     "end_time": "2022-10-06T08:01:47.025302Z",
     "start_time": "2022-10-06T08:01:46.994343Z"
    }
   },
   "outputs": [],
   "source": [
    "df_geom = df_geom[['plane','u','v','trigLinks']]\n",
    "df_constr = df_constr.set_index(['layer', 'u', 'v'])"
   ]
  },
  {
   "cell_type": "code",
   "execution_count": 7,
   "metadata": {
    "ExecuteTime": {
     "end_time": "2022-10-06T08:01:48.704965Z",
     "start_time": "2022-10-06T08:01:48.677201Z"
    }
   },
   "outputs": [],
   "source": [
    "def get_constr_bcstc(row):\n",
    "    layer = int(row.plane)\n",
    "    u = int(row.u)\n",
    "    v = int(row.v)\n",
    "    bcstc_elinks = 0\n",
    "    constr_elinks = 999\n",
    "    bcstc_elinks = elinks_showermax if layer in showermax_layers else elinks_regular\n",
    "    # no trigger links in even layers\n",
    "    if layer%2==0 and layer<hcal_start: bcstc_elinks = 0 \n",
    "    if layer>=hcal_start: bcstc_elinks = elinks_stc\n",
    "    layer_tmp = min(layer, hcal_start) # all HCAL layers have the same constraints\n",
    "    if df_constr.index.isin([(layer_tmp, u, v)]).any():\n",
    "        constr_elinks = int(df_constr.loc[(layer_tmp,u,v)])\n",
    "    return min(bcstc_elinks, constr_elinks)"
   ]
  },
  {
   "cell_type": "code",
   "execution_count": 8,
   "metadata": {
    "ExecuteTime": {
     "end_time": "2022-10-06T08:01:54.915274Z",
     "start_time": "2022-10-06T08:01:50.123850Z"
    }
   },
   "outputs": [],
   "source": [
    "df_geom['trigLinksBCSTC'] = df_geom.apply(get_constr_bcstc, axis=1)"
   ]
  },
  {
   "cell_type": "code",
   "execution_count": 9,
   "metadata": {
    "ExecuteTime": {
     "end_time": "2022-10-06T08:01:54.949937Z",
     "start_time": "2022-10-06T08:01:54.918579Z"
    }
   },
   "outputs": [],
   "source": [
    "df_geom['ok'] = df_geom['trigLinks']>=df_geom['trigLinksBCSTC']"
   ]
  },
  {
   "cell_type": "code",
   "execution_count": 10,
   "metadata": {
    "ExecuteTime": {
     "end_time": "2022-10-06T08:01:54.979947Z",
     "start_time": "2022-10-06T08:01:54.951032Z"
    }
   },
   "outputs": [
    {
     "data": {
      "text/html": [
       "<div>\n",
       "<style scoped>\n",
       "    .dataframe tbody tr th:only-of-type {\n",
       "        vertical-align: middle;\n",
       "    }\n",
       "\n",
       "    .dataframe tbody tr th {\n",
       "        vertical-align: top;\n",
       "    }\n",
       "\n",
       "    .dataframe thead th {\n",
       "        text-align: right;\n",
       "    }\n",
       "</style>\n",
       "<table border=\"1\" class=\"dataframe\">\n",
       "  <thead>\n",
       "    <tr style=\"text-align: right;\">\n",
       "      <th></th>\n",
       "      <th>plane</th>\n",
       "      <th>u</th>\n",
       "      <th>v</th>\n",
       "      <th>trigLinks</th>\n",
       "      <th>trigLinksBCSTC</th>\n",
       "      <th>ok</th>\n",
       "    </tr>\n",
       "  </thead>\n",
       "  <tbody>\n",
       "    <tr>\n",
       "      <th>35</th>\n",
       "      <td>1</td>\n",
       "      <td>9</td>\n",
       "      <td>0</td>\n",
       "      <td>0.0</td>\n",
       "      <td>2</td>\n",
       "      <td>False</td>\n",
       "    </tr>\n",
       "    <tr>\n",
       "      <th>44</th>\n",
       "      <td>1</td>\n",
       "      <td>10</td>\n",
       "      <td>2</td>\n",
       "      <td>0.0</td>\n",
       "      <td>2</td>\n",
       "      <td>False</td>\n",
       "    </tr>\n",
       "    <tr>\n",
       "      <th>50</th>\n",
       "      <td>1</td>\n",
       "      <td>10</td>\n",
       "      <td>8</td>\n",
       "      <td>0.0</td>\n",
       "      <td>2</td>\n",
       "      <td>False</td>\n",
       "    </tr>\n",
       "    <tr>\n",
       "      <th>132</th>\n",
       "      <td>3</td>\n",
       "      <td>9</td>\n",
       "      <td>0</td>\n",
       "      <td>0.0</td>\n",
       "      <td>2</td>\n",
       "      <td>False</td>\n",
       "    </tr>\n",
       "    <tr>\n",
       "      <th>141</th>\n",
       "      <td>3</td>\n",
       "      <td>10</td>\n",
       "      <td>2</td>\n",
       "      <td>0.0</td>\n",
       "      <td>2</td>\n",
       "      <td>False</td>\n",
       "    </tr>\n",
       "    <tr>\n",
       "      <th>147</th>\n",
       "      <td>3</td>\n",
       "      <td>10</td>\n",
       "      <td>8</td>\n",
       "      <td>0.0</td>\n",
       "      <td>2</td>\n",
       "      <td>False</td>\n",
       "    </tr>\n",
       "    <tr>\n",
       "      <th>229</th>\n",
       "      <td>5</td>\n",
       "      <td>9</td>\n",
       "      <td>0</td>\n",
       "      <td>0.0</td>\n",
       "      <td>2</td>\n",
       "      <td>False</td>\n",
       "    </tr>\n",
       "    <tr>\n",
       "      <th>238</th>\n",
       "      <td>5</td>\n",
       "      <td>10</td>\n",
       "      <td>2</td>\n",
       "      <td>0.0</td>\n",
       "      <td>2</td>\n",
       "      <td>False</td>\n",
       "    </tr>\n",
       "    <tr>\n",
       "      <th>244</th>\n",
       "      <td>5</td>\n",
       "      <td>10</td>\n",
       "      <td>8</td>\n",
       "      <td>0.0</td>\n",
       "      <td>2</td>\n",
       "      <td>False</td>\n",
       "    </tr>\n",
       "    <tr>\n",
       "      <th>3206</th>\n",
       "      <td>1</td>\n",
       "      <td>9</td>\n",
       "      <td>9</td>\n",
       "      <td>0.0</td>\n",
       "      <td>2</td>\n",
       "      <td>False</td>\n",
       "    </tr>\n",
       "    <tr>\n",
       "      <th>3215</th>\n",
       "      <td>1</td>\n",
       "      <td>8</td>\n",
       "      <td>10</td>\n",
       "      <td>0.0</td>\n",
       "      <td>2</td>\n",
       "      <td>False</td>\n",
       "    </tr>\n",
       "    <tr>\n",
       "      <th>3221</th>\n",
       "      <td>1</td>\n",
       "      <td>2</td>\n",
       "      <td>10</td>\n",
       "      <td>0.0</td>\n",
       "      <td>2</td>\n",
       "      <td>False</td>\n",
       "    </tr>\n",
       "    <tr>\n",
       "      <th>3303</th>\n",
       "      <td>3</td>\n",
       "      <td>9</td>\n",
       "      <td>9</td>\n",
       "      <td>0.0</td>\n",
       "      <td>2</td>\n",
       "      <td>False</td>\n",
       "    </tr>\n",
       "    <tr>\n",
       "      <th>3312</th>\n",
       "      <td>3</td>\n",
       "      <td>8</td>\n",
       "      <td>10</td>\n",
       "      <td>0.0</td>\n",
       "      <td>2</td>\n",
       "      <td>False</td>\n",
       "    </tr>\n",
       "    <tr>\n",
       "      <th>3318</th>\n",
       "      <td>3</td>\n",
       "      <td>2</td>\n",
       "      <td>10</td>\n",
       "      <td>0.0</td>\n",
       "      <td>2</td>\n",
       "      <td>False</td>\n",
       "    </tr>\n",
       "    <tr>\n",
       "      <th>3400</th>\n",
       "      <td>5</td>\n",
       "      <td>9</td>\n",
       "      <td>9</td>\n",
       "      <td>0.0</td>\n",
       "      <td>2</td>\n",
       "      <td>False</td>\n",
       "    </tr>\n",
       "    <tr>\n",
       "      <th>3409</th>\n",
       "      <td>5</td>\n",
       "      <td>8</td>\n",
       "      <td>10</td>\n",
       "      <td>0.0</td>\n",
       "      <td>2</td>\n",
       "      <td>False</td>\n",
       "    </tr>\n",
       "    <tr>\n",
       "      <th>3415</th>\n",
       "      <td>5</td>\n",
       "      <td>2</td>\n",
       "      <td>10</td>\n",
       "      <td>0.0</td>\n",
       "      <td>2</td>\n",
       "      <td>False</td>\n",
       "    </tr>\n",
       "  </tbody>\n",
       "</table>\n",
       "</div>"
      ],
      "text/plain": [
       "      plane   u   v  trigLinks  trigLinksBCSTC     ok\n",
       "35        1   9   0        0.0               2  False\n",
       "44        1  10   2        0.0               2  False\n",
       "50        1  10   8        0.0               2  False\n",
       "132       3   9   0        0.0               2  False\n",
       "141       3  10   2        0.0               2  False\n",
       "147       3  10   8        0.0               2  False\n",
       "229       5   9   0        0.0               2  False\n",
       "238       5  10   2        0.0               2  False\n",
       "244       5  10   8        0.0               2  False\n",
       "3206      1   9   9        0.0               2  False\n",
       "3215      1   8  10        0.0               2  False\n",
       "3221      1   2  10        0.0               2  False\n",
       "3303      3   9   9        0.0               2  False\n",
       "3312      3   8  10        0.0               2  False\n",
       "3318      3   2  10        0.0               2  False\n",
       "3400      5   9   9        0.0               2  False\n",
       "3409      5   8  10        0.0               2  False\n",
       "3415      5   2  10        0.0               2  False"
      ]
     },
     "execution_count": 10,
     "metadata": {},
     "output_type": "execute_result"
    }
   ],
   "source": [
    "df_geom.query('ok==False and plane<6')"
   ]
  },
  {
   "cell_type": "code",
   "execution_count": 11,
   "metadata": {
    "ExecuteTime": {
     "end_time": "2022-10-06T08:03:24.833114Z",
     "start_time": "2022-10-06T08:03:24.555522Z"
    }
   },
   "outputs": [
    {
     "data": {
      "text/html": [
       "<div>\n",
       "<style scoped>\n",
       "    .dataframe tbody tr th:only-of-type {\n",
       "        vertical-align: middle;\n",
       "    }\n",
       "\n",
       "    .dataframe tbody tr th {\n",
       "        vertical-align: top;\n",
       "    }\n",
       "\n",
       "    .dataframe thead th {\n",
       "        text-align: right;\n",
       "    }\n",
       "</style>\n",
       "<table border=\"1\" class=\"dataframe\">\n",
       "  <thead>\n",
       "    <tr style=\"text-align: right;\">\n",
       "      <th></th>\n",
       "      <th>plane</th>\n",
       "      <th>u</th>\n",
       "      <th>v</th>\n",
       "      <th>trigLinks</th>\n",
       "      <th>trigLinksBCSTC</th>\n",
       "      <th>ok</th>\n",
       "    </tr>\n",
       "  </thead>\n",
       "  <tbody>\n",
       "    <tr>\n",
       "      <th>35</th>\n",
       "      <td>1</td>\n",
       "      <td>9</td>\n",
       "      <td>0</td>\n",
       "      <td>0.0</td>\n",
       "      <td>2</td>\n",
       "      <td>False</td>\n",
       "    </tr>\n",
       "    <tr>\n",
       "      <th>44</th>\n",
       "      <td>1</td>\n",
       "      <td>10</td>\n",
       "      <td>2</td>\n",
       "      <td>0.0</td>\n",
       "      <td>2</td>\n",
       "      <td>False</td>\n",
       "    </tr>\n",
       "    <tr>\n",
       "      <th>50</th>\n",
       "      <td>1</td>\n",
       "      <td>10</td>\n",
       "      <td>8</td>\n",
       "      <td>0.0</td>\n",
       "      <td>2</td>\n",
       "      <td>False</td>\n",
       "    </tr>\n",
       "    <tr>\n",
       "      <th>132</th>\n",
       "      <td>3</td>\n",
       "      <td>9</td>\n",
       "      <td>0</td>\n",
       "      <td>0.0</td>\n",
       "      <td>2</td>\n",
       "      <td>False</td>\n",
       "    </tr>\n",
       "    <tr>\n",
       "      <th>141</th>\n",
       "      <td>3</td>\n",
       "      <td>10</td>\n",
       "      <td>2</td>\n",
       "      <td>0.0</td>\n",
       "      <td>2</td>\n",
       "      <td>False</td>\n",
       "    </tr>\n",
       "    <tr>\n",
       "      <th>...</th>\n",
       "      <td>...</td>\n",
       "      <td>...</td>\n",
       "      <td>...</td>\n",
       "      <td>...</td>\n",
       "      <td>...</td>\n",
       "      <td>...</td>\n",
       "    </tr>\n",
       "    <tr>\n",
       "      <th>4450</th>\n",
       "      <td>25</td>\n",
       "      <td>1</td>\n",
       "      <td>10</td>\n",
       "      <td>0.0</td>\n",
       "      <td>2</td>\n",
       "      <td>False</td>\n",
       "    </tr>\n",
       "    <tr>\n",
       "      <th>4451</th>\n",
       "      <td>25</td>\n",
       "      <td>8</td>\n",
       "      <td>11</td>\n",
       "      <td>0.0</td>\n",
       "      <td>2</td>\n",
       "      <td>False</td>\n",
       "    </tr>\n",
       "    <tr>\n",
       "      <th>4453</th>\n",
       "      <td>25</td>\n",
       "      <td>6</td>\n",
       "      <td>11</td>\n",
       "      <td>0.0</td>\n",
       "      <td>2</td>\n",
       "      <td>False</td>\n",
       "    </tr>\n",
       "    <tr>\n",
       "      <th>4454</th>\n",
       "      <td>25</td>\n",
       "      <td>5</td>\n",
       "      <td>11</td>\n",
       "      <td>0.0</td>\n",
       "      <td>2</td>\n",
       "      <td>False</td>\n",
       "    </tr>\n",
       "    <tr>\n",
       "      <th>4456</th>\n",
       "      <td>25</td>\n",
       "      <td>3</td>\n",
       "      <td>11</td>\n",
       "      <td>0.0</td>\n",
       "      <td>2</td>\n",
       "      <td>False</td>\n",
       "    </tr>\n",
       "  </tbody>\n",
       "</table>\n",
       "<p>1771 rows × 6 columns</p>\n",
       "</div>"
      ],
      "text/plain": [
       "      plane   u   v  trigLinks  trigLinksBCSTC     ok\n",
       "35        1   9   0        0.0               2  False\n",
       "44        1  10   2        0.0               2  False\n",
       "50        1  10   8        0.0               2  False\n",
       "132       3   9   0        0.0               2  False\n",
       "141       3  10   2        0.0               2  False\n",
       "...     ...  ..  ..        ...             ...    ...\n",
       "4450     25   1  10        0.0               2  False\n",
       "4451     25   8  11        0.0               2  False\n",
       "4453     25   6  11        0.0               2  False\n",
       "4454     25   5  11        0.0               2  False\n",
       "4456     25   3  11        0.0               2  False\n",
       "\n",
       "[1771 rows x 6 columns]"
      ]
     },
     "execution_count": 11,
     "metadata": {},
     "output_type": "execute_result"
    }
   ],
   "source": [
    "df_geom.query('ok==False')"
   ]
  },
  {
   "cell_type": "code",
   "execution_count": null,
   "metadata": {},
   "outputs": [],
   "source": []
  }
 ],
 "metadata": {
  "kernelspec": {
   "display_name": "Python 3",
   "language": "python",
   "name": "python3"
  },
  "language_info": {
   "codemirror_mode": {
    "name": "ipython",
    "version": 3
   },
   "file_extension": ".py",
   "mimetype": "text/x-python",
   "name": "python",
   "nbconvert_exporter": "python",
   "pygments_lexer": "ipython3",
   "version": "3.7.0"
  },
  "toc": {
   "base_numbering": 1,
   "nav_menu": {},
   "number_sections": true,
   "sideBar": true,
   "skip_h1_title": false,
   "title_cell": "Table of Contents",
   "title_sidebar": "Contents",
   "toc_cell": false,
   "toc_position": {},
   "toc_section_display": true,
   "toc_window_display": false
  }
 },
 "nbformat": 4,
 "nbformat_minor": 2
}
