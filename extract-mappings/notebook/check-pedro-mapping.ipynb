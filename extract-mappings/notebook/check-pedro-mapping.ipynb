{
 "cells": [
  {
   "cell_type": "code",
   "execution_count": 1,
   "metadata": {
    "ExecuteTime": {
     "end_time": "2022-10-13T07:18:25.402908Z",
     "start_time": "2022-10-13T07:18:25.379841Z"
    }
   },
   "outputs": [],
   "source": [
    "%load_ext autoreload\n",
    "%autoreload 2"
   ]
  },
  {
   "cell_type": "code",
   "execution_count": 2,
   "metadata": {
    "ExecuteTime": {
     "end_time": "2022-10-13T07:18:27.034080Z",
     "start_time": "2022-10-13T07:18:25.943001Z"
    }
   },
   "outputs": [],
   "source": [
    "%matplotlib inline "
   ]
  },
  {
   "cell_type": "code",
   "execution_count": 47,
   "metadata": {
    "ExecuteTime": {
     "end_time": "2022-10-13T08:10:32.461633Z",
     "start_time": "2022-10-13T08:10:32.435113Z"
    }
   },
   "outputs": [],
   "source": [
    "import sys\n",
    "sys.path.append('..')\n",
    "\n",
    "import pandas as pd\n",
    "import numpy as np\n",
    "from common import rotate_to_sector0,uv2sectoru0v0"
   ]
  },
  {
   "cell_type": "code",
   "execution_count": 53,
   "metadata": {
    "ExecuteTime": {
     "end_time": "2022-10-13T08:20:05.185492Z",
     "start_time": "2022-10-13T08:20:05.133769Z"
    }
   },
   "outputs": [],
   "source": [
    "df_geom = pd.read_csv('../data/geometry_bestguess_v2.hgcal.txt', sep=' ')\n",
    "df_constr = pd.read_csv('../data/220712_strobbe_elinks-mapping.csv')\n",
    "showermax_layers = [7,9,11,13]\n",
    "hcal_start = 27\n",
    "elinks_showermax = 4\n",
    "elinks_regular = 2\n",
    "# STC: assuming STC4 5E+4M in HDM and STC16 in LDM\n",
    "elinks_stc16 = 2\n",
    "elinks_stc4 = 5"
   ]
  },
  {
   "cell_type": "code",
   "execution_count": 54,
   "metadata": {
    "ExecuteTime": {
     "end_time": "2022-10-13T08:20:05.663873Z",
     "start_time": "2022-10-13T08:20:05.629883Z"
    }
   },
   "outputs": [
    {
     "name": "stdout",
     "output_type": "stream",
     "text": [
      "   plane  u  v itype       x0       y0  irot  nvertices     vx_0     vy_0  \\\n",
      "0      1  1  2   dIe   -0.002  290.016     4          5  -83.718  338.396   \n",
      "1      1  1  3    FI  -83.725  435.025     2          6    0.047  386.682   \n",
      "2      1  1  4    FI -167.438  580.028     2          6  -83.763  531.718   \n",
      "3      1  1  5    FI -251.161  725.037     2          6 -167.487  676.705   \n",
      "4      1  1  6    FO -334.883  870.046     2          6 -251.210  821.691   \n",
      "\n",
      "   ...  trigPp0_type            dataPp1           trigPp1  dataPp1_type  \\\n",
      "0  ...             B  PP1(CE-)11_FO_1_2  PP1(CE-)9_FO_2_3            Ap   \n",
      "1  ...             B  PP1(CE-)11_FO_1_2  PP1(CE-)9_FO_2_3            Ap   \n",
      "2  ...             B  PP1(CE-)11_FO_1_2  PP1(CE-)9_FO_2_3            Ap   \n",
      "3  ...             B  PP1(CE-)11_FO_1_2  PP1(CE-)9_FO_2_3            Ap   \n",
      "4  ...             A  PP1(CE-)11_FO_1_1  PP1(CE-)9_FO_2_1            Ap   \n",
      "\n",
      "   trigPp1_type         dataPp2      DAQ  engine_trig_fibres  \\\n",
      "0            Ap  PPFO(CE-)X5_14  DAQ_2_2                   4   \n",
      "1            Ap  PPFO(CE-)X5_14  DAQ_2_2                   4   \n",
      "2            Ap  PPFO(CE-)X5_14  DAQ_2_2                   4   \n",
      "3            Ap  PPFO(CE-)X5_14  DAQ_2_2                   4   \n",
      "4            Ap   PPFO(CE-)X5_7  DAQ_1_5                   2   \n",
      "\n",
      "   engine_data_fibres  engine_ctrl_fibres  \n",
      "0                   2                   2  \n",
      "1                   2                   2  \n",
      "2                   2                   2  \n",
      "3                   2                   2  \n",
      "4                   1                   1  \n",
      "\n",
      "[5 rows x 52 columns]\n",
      "   layer  u  v  elinks\n",
      "0      7  2  0       9\n",
      "1      7  2  1       6\n",
      "2      7  3  0       8\n",
      "3      7  3  1       9\n",
      "4      7  3  2       9\n"
     ]
    }
   ],
   "source": [
    "print(df_geom.head())\n",
    "print(df_constr.head())"
   ]
  },
  {
   "cell_type": "code",
   "execution_count": 55,
   "metadata": {
    "ExecuteTime": {
     "end_time": "2022-10-13T08:20:08.756991Z",
     "start_time": "2022-10-13T08:20:07.545985Z"
    }
   },
   "outputs": [],
   "source": [
    "df_geom = df_geom[['plane','u','v','trigLinks','itype']]\n",
    "df_geom[['sector60', 'u0', 'v0']] = df_geom.apply(uv2sectoru0v0, axis=1)\n",
    "df_constr = df_constr.set_index(['layer', 'u', 'v'])"
   ]
  },
  {
   "cell_type": "code",
   "execution_count": 59,
   "metadata": {
    "ExecuteTime": {
     "end_time": "2022-10-13T08:21:09.922095Z",
     "start_time": "2022-10-13T08:21:09.887679Z"
    }
   },
   "outputs": [
    {
     "data": {
      "text/html": [
       "<div>\n",
       "<style scoped>\n",
       "    .dataframe tbody tr th:only-of-type {\n",
       "        vertical-align: middle;\n",
       "    }\n",
       "\n",
       "    .dataframe tbody tr th {\n",
       "        vertical-align: top;\n",
       "    }\n",
       "\n",
       "    .dataframe thead th {\n",
       "        text-align: right;\n",
       "    }\n",
       "</style>\n",
       "<table border=\"1\" class=\"dataframe\">\n",
       "  <thead>\n",
       "    <tr style=\"text-align: right;\">\n",
       "      <th></th>\n",
       "      <th>plane</th>\n",
       "      <th>u</th>\n",
       "      <th>v</th>\n",
       "      <th>trigLinks</th>\n",
       "      <th>itype</th>\n",
       "      <th>sector60</th>\n",
       "      <th>u0</th>\n",
       "      <th>v0</th>\n",
       "    </tr>\n",
       "  </thead>\n",
       "  <tbody>\n",
       "    <tr>\n",
       "      <th>0</th>\n",
       "      <td>1</td>\n",
       "      <td>1</td>\n",
       "      <td>2</td>\n",
       "      <td>5.0</td>\n",
       "      <td>dIe</td>\n",
       "      <td>1</td>\n",
       "      <td>2</td>\n",
       "      <td>1</td>\n",
       "    </tr>\n",
       "    <tr>\n",
       "      <th>1</th>\n",
       "      <td>1</td>\n",
       "      <td>1</td>\n",
       "      <td>3</td>\n",
       "      <td>8.0</td>\n",
       "      <td>FI</td>\n",
       "      <td>1</td>\n",
       "      <td>3</td>\n",
       "      <td>2</td>\n",
       "    </tr>\n",
       "    <tr>\n",
       "      <th>2</th>\n",
       "      <td>1</td>\n",
       "      <td>1</td>\n",
       "      <td>4</td>\n",
       "      <td>5.0</td>\n",
       "      <td>FI</td>\n",
       "      <td>1</td>\n",
       "      <td>4</td>\n",
       "      <td>3</td>\n",
       "    </tr>\n",
       "    <tr>\n",
       "      <th>3</th>\n",
       "      <td>1</td>\n",
       "      <td>1</td>\n",
       "      <td>5</td>\n",
       "      <td>4.0</td>\n",
       "      <td>FI</td>\n",
       "      <td>1</td>\n",
       "      <td>5</td>\n",
       "      <td>4</td>\n",
       "    </tr>\n",
       "    <tr>\n",
       "      <th>4</th>\n",
       "      <td>1</td>\n",
       "      <td>1</td>\n",
       "      <td>6</td>\n",
       "      <td>3.0</td>\n",
       "      <td>FO</td>\n",
       "      <td>1</td>\n",
       "      <td>6</td>\n",
       "      <td>5</td>\n",
       "    </tr>\n",
       "    <tr>\n",
       "      <th>...</th>\n",
       "      <td>...</td>\n",
       "      <td>...</td>\n",
       "      <td>...</td>\n",
       "      <td>...</td>\n",
       "      <td>...</td>\n",
       "      <td>...</td>\n",
       "      <td>...</td>\n",
       "      <td>...</td>\n",
       "    </tr>\n",
       "    <tr>\n",
       "      <th>2659</th>\n",
       "      <td>26</td>\n",
       "      <td>8</td>\n",
       "      <td>8</td>\n",
       "      <td>0.0</td>\n",
       "      <td>FO</td>\n",
       "      <td>1</td>\n",
       "      <td>8</td>\n",
       "      <td>0</td>\n",
       "    </tr>\n",
       "    <tr>\n",
       "      <th>2660</th>\n",
       "      <td>26</td>\n",
       "      <td>8</td>\n",
       "      <td>9</td>\n",
       "      <td>0.0</td>\n",
       "      <td>FO</td>\n",
       "      <td>1</td>\n",
       "      <td>9</td>\n",
       "      <td>1</td>\n",
       "    </tr>\n",
       "    <tr>\n",
       "      <th>2661</th>\n",
       "      <td>26</td>\n",
       "      <td>8</td>\n",
       "      <td>10</td>\n",
       "      <td>0.0</td>\n",
       "      <td>bOe</td>\n",
       "      <td>1</td>\n",
       "      <td>10</td>\n",
       "      <td>2</td>\n",
       "    </tr>\n",
       "    <tr>\n",
       "      <th>2671</th>\n",
       "      <td>26</td>\n",
       "      <td>9</td>\n",
       "      <td>9</td>\n",
       "      <td>0.0</td>\n",
       "      <td>FOe</td>\n",
       "      <td>1</td>\n",
       "      <td>9</td>\n",
       "      <td>0</td>\n",
       "    </tr>\n",
       "    <tr>\n",
       "      <th>2672</th>\n",
       "      <td>26</td>\n",
       "      <td>9</td>\n",
       "      <td>10</td>\n",
       "      <td>0.0</td>\n",
       "      <td>aOeT</td>\n",
       "      <td>1</td>\n",
       "      <td>10</td>\n",
       "      <td>1</td>\n",
       "    </tr>\n",
       "  </tbody>\n",
       "</table>\n",
       "<p>1343 rows × 8 columns</p>\n",
       "</div>"
      ],
      "text/plain": [
       "      plane  u   v  trigLinks itype  sector60  u0  v0\n",
       "0         1  1   2        5.0   dIe         1   2   1\n",
       "1         1  1   3        8.0    FI         1   3   2\n",
       "2         1  1   4        5.0    FI         1   4   3\n",
       "3         1  1   5        4.0    FI         1   5   4\n",
       "4         1  1   6        3.0    FO         1   6   5\n",
       "...     ... ..  ..        ...   ...       ...  ..  ..\n",
       "2659     26  8   8        0.0    FO         1   8   0\n",
       "2660     26  8   9        0.0    FO         1   9   1\n",
       "2661     26  8  10        0.0   bOe         1  10   2\n",
       "2671     26  9   9        0.0   FOe         1   9   0\n",
       "2672     26  9  10        0.0  aOeT         1  10   1\n",
       "\n",
       "[1343 rows x 8 columns]"
      ]
     },
     "execution_count": 59,
     "metadata": {},
     "output_type": "execute_result"
    }
   ],
   "source": [
    "df_geom[(df_geom.sector60!=0) & (df_geom.plane<hcal_start)]"
   ]
  },
  {
   "cell_type": "code",
   "execution_count": 61,
   "metadata": {
    "ExecuteTime": {
     "end_time": "2022-10-13T08:21:41.464313Z",
     "start_time": "2022-10-13T08:21:41.434903Z"
    }
   },
   "outputs": [],
   "source": [
    "def get_constr_bcstc(row):\n",
    "    layer = int(row.plane)\n",
    "    u = int(row.u)\n",
    "    v = int(row.v)\n",
    "    # Rotate to 60deg sector0 if in CE-E\n",
    "    u0 = int(row.u0) if layer<hcal_start else u\n",
    "    v0 = int(row.v0) if layer<hcal_start else v\n",
    "    itype = row.itype\n",
    "    triangle = itype[0]=='c'\n",
    "    hdm = 'I' in itype\n",
    "    bcstc_elinks = 0\n",
    "    constr_elinks = 999\n",
    "    bcstc_elinks = elinks_showermax if layer in showermax_layers else elinks_regular\n",
    "    # no trigger links in even layers\n",
    "    if layer%2==0 and layer<hcal_start: bcstc_elinks = 0 \n",
    "    # STC elinks: STC4 in HDM and STC16 in LDM\n",
    "    if layer>=hcal_start:\n",
    "        if hdm:\n",
    "            bcstc_elinks = elinks_stc4\n",
    "        else:\n",
    "            bcstc_elinks = elinks_stc16\n",
    "    layer_tmp = min(layer, hcal_start) # all HCAL layers have the same constraints\n",
    "    if df_constr.index.isin([(layer_tmp, u0, v0)]).any():\n",
    "        constr_elinks = int(df_constr.loc[(layer_tmp,u0,v0)])\n",
    "    # No trigger elinks in triangles/three-partials\n",
    "    if triangle: constr_elinks = 0\n",
    "    return min(bcstc_elinks, constr_elinks)"
   ]
  },
  {
   "cell_type": "code",
   "execution_count": 62,
   "metadata": {
    "ExecuteTime": {
     "end_time": "2022-10-13T08:21:47.576614Z",
     "start_time": "2022-10-13T08:21:42.586881Z"
    }
   },
   "outputs": [],
   "source": [
    "df_geom['trigLinksBCSTC'] = df_geom.apply(get_constr_bcstc, axis=1)"
   ]
  },
  {
   "cell_type": "code",
   "execution_count": 63,
   "metadata": {
    "ExecuteTime": {
     "end_time": "2022-10-13T08:21:47.598421Z",
     "start_time": "2022-10-13T08:21:47.578897Z"
    }
   },
   "outputs": [],
   "source": [
    "df_geom['ok'] = df_geom['trigLinks']>=df_geom['trigLinksBCSTC']"
   ]
  },
  {
   "cell_type": "code",
   "execution_count": 64,
   "metadata": {
    "ExecuteTime": {
     "end_time": "2022-10-13T08:21:48.224681Z",
     "start_time": "2022-10-13T08:21:48.198779Z"
    }
   },
   "outputs": [
    {
     "data": {
      "text/html": [
       "<div>\n",
       "<style scoped>\n",
       "    .dataframe tbody tr th:only-of-type {\n",
       "        vertical-align: middle;\n",
       "    }\n",
       "\n",
       "    .dataframe tbody tr th {\n",
       "        vertical-align: top;\n",
       "    }\n",
       "\n",
       "    .dataframe thead th {\n",
       "        text-align: right;\n",
       "    }\n",
       "</style>\n",
       "<table border=\"1\" class=\"dataframe\">\n",
       "  <thead>\n",
       "    <tr style=\"text-align: right;\">\n",
       "      <th></th>\n",
       "      <th>plane</th>\n",
       "      <th>u</th>\n",
       "      <th>v</th>\n",
       "      <th>trigLinks</th>\n",
       "      <th>itype</th>\n",
       "      <th>sector60</th>\n",
       "      <th>u0</th>\n",
       "      <th>v0</th>\n",
       "      <th>trigLinksBCSTC</th>\n",
       "      <th>ok</th>\n",
       "    </tr>\n",
       "  </thead>\n",
       "  <tbody>\n",
       "  </tbody>\n",
       "</table>\n",
       "</div>"
      ],
      "text/plain": [
       "Empty DataFrame\n",
       "Columns: [plane, u, v, trigLinks, itype, sector60, u0, v0, trigLinksBCSTC, ok]\n",
       "Index: []"
      ]
     },
     "execution_count": 64,
     "metadata": {},
     "output_type": "execute_result"
    }
   ],
   "source": [
    "df_geom.query('ok==False')"
   ]
  },
  {
   "cell_type": "code",
   "execution_count": null,
   "metadata": {},
   "outputs": [],
   "source": []
  }
 ],
 "metadata": {
  "kernelspec": {
   "display_name": "Python 3",
   "language": "python",
   "name": "python3"
  },
  "language_info": {
   "codemirror_mode": {
    "name": "ipython",
    "version": 3
   },
   "file_extension": ".py",
   "mimetype": "text/x-python",
   "name": "python",
   "nbconvert_exporter": "python",
   "pygments_lexer": "ipython3",
   "version": "3.7.0"
  },
  "toc": {
   "base_numbering": 1,
   "nav_menu": {},
   "number_sections": true,
   "sideBar": true,
   "skip_h1_title": false,
   "title_cell": "Table of Contents",
   "title_sidebar": "Contents",
   "toc_cell": false,
   "toc_position": {},
   "toc_section_display": true,
   "toc_window_display": false
  }
 },
 "nbformat": 4,
 "nbformat_minor": 2
}
